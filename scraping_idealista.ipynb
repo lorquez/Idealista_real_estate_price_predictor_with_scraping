{
  "nbformat": 4,
  "nbformat_minor": 0,
  "metadata": {
    "colab": {
      "name": "scraping_idealista.ipynb",
      "provenance": [],
      "collapsed_sections": [],
      "authorship_tag": "ABX9TyPtmgo/X/7be+K5dp5wP/wC"
    },
    "kernelspec": {
      "name": "python3",
      "display_name": "Python 3"
    },
    "language_info": {
      "name": "python"
    }
  },
  "cells": [
    {
      "cell_type": "code",
      "execution_count": 1,
      "metadata": {
        "id": "W5u8t0OGiNva"
      },
      "outputs": [],
      "source": [
        "import matplotlib.pyplot as plt\n",
        "import seaborn as sns\n",
        "import pandas as pd\n",
        "import numpy as np\n",
        "import requests\n",
        "import os"
      ]
    },
    {
      "cell_type": "code",
      "source": [
        "import json\n",
        "f = open(os.getcwd()+os.sep+'token.json','r')\n",
        "access = json.load(f)\n",
        "f.close()"
      ],
      "metadata": {
        "id": "giUeuXPQS3NB"
      },
      "execution_count": 11,
      "outputs": []
    },
    {
      "cell_type": "code",
      "source": [
        "class idealista_search_api():\n",
        "  \n",
        "  def __init__(self,access:dict):\n",
        "    self.token = access['access_token']\n",
        "    self.token_type = access['token_type']\n",
        "    self.api_key = 'p4o5n83p24mfdxhpnzkzzo5rpr2xng1s'\n",
        "    self.country = 'es'\n",
        "    self.endpoint = f'https://api.idealista.com/3.5/{self.country}/search'\n",
        "    \n",
        "  def request(self,payload:dict):\n",
        "    headers = {\n",
        "        'Authorization': f'{self.token_type} {self.token}',\n",
        "        'Content-Type': 'multipart/form-data;'\n",
        "    }\n",
        "    payload['apikey'] = self.api_key\n",
        "    response = requests.post(self.endpoint,params=payload,headers=headers)\n",
        "    if response.status_code == '200':\n",
        "      return response\n",
        "    response.raise_for_status()"
      ],
      "metadata": {
        "id": "MG3O-_ZiLuW2"
      },
      "execution_count": 46,
      "outputs": []
    },
    {
      "cell_type": "code",
      "source": [
        "idealista = idealista_search_api(access)\n",
        "payload = {\n",
        "    'operation':'sale',\n",
        "    'propertyType':'homes',\n",
        "    'locale':'es',\n",
        "    #'locationId':'0-EU-ES-28-07-001-079'\n",
        "    'locationId':'madrid'\n",
        "    }\n",
        "response = idealista.request(payload)"
      ],
      "metadata": {
        "colab": {
          "base_uri": "https://localhost:8080/",
          "height": 348
        },
        "id": "geAtz9N5MxQS",
        "outputId": "33adb555-4f6f-49de-a8ac-0571db3e580c"
      },
      "execution_count": 48,
      "outputs": [
        {
          "output_type": "error",
          "ename": "HTTPError",
          "evalue": "ignored",
          "traceback": [
            "\u001b[0;31m---------------------------------------------------------------------------\u001b[0m",
            "\u001b[0;31mHTTPError\u001b[0m                                 Traceback (most recent call last)",
            "\u001b[0;32m<ipython-input-48-b1d144c716ce>\u001b[0m in \u001b[0;36m<module>\u001b[0;34m()\u001b[0m\n\u001b[1;32m      7\u001b[0m     \u001b[0;34m'locationId'\u001b[0m\u001b[0;34m:\u001b[0m\u001b[0;34m'madrid'\u001b[0m\u001b[0;34m\u001b[0m\u001b[0;34m\u001b[0m\u001b[0m\n\u001b[1;32m      8\u001b[0m     }\n\u001b[0;32m----> 9\u001b[0;31m \u001b[0mresponse\u001b[0m \u001b[0;34m=\u001b[0m \u001b[0midealista\u001b[0m\u001b[0;34m.\u001b[0m\u001b[0mrequest\u001b[0m\u001b[0;34m(\u001b[0m\u001b[0mpayload\u001b[0m\u001b[0;34m)\u001b[0m\u001b[0;34m\u001b[0m\u001b[0;34m\u001b[0m\u001b[0m\n\u001b[0m",
            "\u001b[0;32m<ipython-input-46-04802c6be6b8>\u001b[0m in \u001b[0;36mrequest\u001b[0;34m(self, payload)\u001b[0m\n\u001b[1;32m     17\u001b[0m     \u001b[0;32mif\u001b[0m \u001b[0mresponse\u001b[0m\u001b[0;34m.\u001b[0m\u001b[0mstatus_code\u001b[0m \u001b[0;34m==\u001b[0m \u001b[0;34m'200'\u001b[0m\u001b[0;34m:\u001b[0m\u001b[0;34m\u001b[0m\u001b[0;34m\u001b[0m\u001b[0m\n\u001b[1;32m     18\u001b[0m       \u001b[0;32mreturn\u001b[0m \u001b[0mresponse\u001b[0m\u001b[0;34m\u001b[0m\u001b[0;34m\u001b[0m\u001b[0m\n\u001b[0;32m---> 19\u001b[0;31m     \u001b[0mresponse\u001b[0m\u001b[0;34m.\u001b[0m\u001b[0mraise_for_status\u001b[0m\u001b[0;34m(\u001b[0m\u001b[0;34m)\u001b[0m\u001b[0;34m\u001b[0m\u001b[0;34m\u001b[0m\u001b[0m\n\u001b[0m",
            "\u001b[0;32m/usr/local/lib/python3.7/dist-packages/requests/models.py\u001b[0m in \u001b[0;36mraise_for_status\u001b[0;34m(self)\u001b[0m\n\u001b[1;32m    939\u001b[0m \u001b[0;34m\u001b[0m\u001b[0m\n\u001b[1;32m    940\u001b[0m         \u001b[0;32mif\u001b[0m \u001b[0mhttp_error_msg\u001b[0m\u001b[0;34m:\u001b[0m\u001b[0;34m\u001b[0m\u001b[0;34m\u001b[0m\u001b[0m\n\u001b[0;32m--> 941\u001b[0;31m             \u001b[0;32mraise\u001b[0m \u001b[0mHTTPError\u001b[0m\u001b[0;34m(\u001b[0m\u001b[0mhttp_error_msg\u001b[0m\u001b[0;34m,\u001b[0m \u001b[0mresponse\u001b[0m\u001b[0;34m=\u001b[0m\u001b[0mself\u001b[0m\u001b[0;34m)\u001b[0m\u001b[0;34m\u001b[0m\u001b[0;34m\u001b[0m\u001b[0m\n\u001b[0m\u001b[1;32m    942\u001b[0m \u001b[0;34m\u001b[0m\u001b[0m\n\u001b[1;32m    943\u001b[0m     \u001b[0;32mdef\u001b[0m \u001b[0mclose\u001b[0m\u001b[0;34m(\u001b[0m\u001b[0mself\u001b[0m\u001b[0;34m)\u001b[0m\u001b[0;34m:\u001b[0m\u001b[0;34m\u001b[0m\u001b[0;34m\u001b[0m\u001b[0m\n",
            "\u001b[0;31mHTTPError\u001b[0m: 500 Server Error: Internal Server Error for url: https://api.idealista.com/3.5/es/search?operation=sale&propertyType=homes&locale=es&locationId=madrid&apikey=p4o5n83p24mfdxhpnzkzzo5rpr2xng1s"
          ]
        }
      ]
    },
    {
      "cell_type": "code",
      "source": [
        "def get_property_data(driver:webdriver, url:str) -> pd.DataFrame:\n",
        "  driver.get(url)\n",
        "  utag_data = driver.execute_script('return window.utag_data')  # price, size, n_bedrooms, type(indirectly), floor, elevator, garden, terrace, energetic_class, garage, status\n",
        "\n",
        "  data = {\n",
        "      'price':int(utag_data.ad_price),\n",
        "      'size':int(utag_data.ad_characteristics_constructedArea),\n",
        "      'n_bedrooms':int(utag_data.ad_characteristics_bathNumber),\n",
        "      'n_bathrooms':int(utag_data.ad_characteristics_roomNumber),\n",
        "      'has_garage' : int(utag_data.ad_characteristics_hasParking),\n",
        "      'good_condition': int(utag_data.ad_condition_isGoodCondition),\n",
        "      'needs_renovating': int(utag_data.ad_condition_isNeedsRenovating),\n",
        "      'new_development': int(utag_data.ad_condition_isNewDevelopment),\n",
        "      'energy_cert':utag_data.get('ad_energyCertification_type','not_available'),\n",
        "      'has_lift': int(utag_data.get('ad_characteristics_hasLift',0)),\n",
        "      'has_garden': int(utag_data.get('ad_characteristics_hasGarden',0)),\n",
        "      'has_terrace':int(utag_data.get('ad_characteristics_hasTerrace',0)),\n",
        "      'has_swimming_pool': int(utag_data.get('ad_characteristics_hasSwimmingPool',0))  \n",
        "  }\n",
        "\n",
        "  if 'ad_characteristics_hasLift' in utag_data.leys():\n",
        "    data['type'] = 'apartment'\n",
        "  else:\n",
        "    data['type'] = 'house'\n",
        "\n",
        "  try:\n",
        "    tags = driver.find_element(By.CSS_SELECTOR,'div.info-features-tags')\n",
        "    data['luxury'] = ('lujo' in tags)\n",
        "  except:\n",
        "    data['luxury'] = False\n",
        "\n",
        "    return pd.DataFrame(data).to_csv('idealista_real_estate_data.csv',mode='a')"
      ],
      "metadata": {
        "id": "TFSwWQ5lZoCF"
      },
      "execution_count": null,
      "outputs": []
    },
    {
      "cell_type": "code",
      "source": [
        "url_list = get_properties_url_list(driver,url_target)\n",
        "\n",
        "for url in url_list:\n",
        "  get_property_data(driver,url)"
      ],
      "metadata": {
        "id": "_gv4ObSsneC8",
        "colab": {
          "base_uri": "https://localhost:8080/",
          "height": 217
        },
        "outputId": "dc91bc52-c3d2-4fa4-c5a8-5b75f1f0e2f5"
      },
      "execution_count": null,
      "outputs": [
        {
          "output_type": "error",
          "ename": "NameError",
          "evalue": "ignored",
          "traceback": [
            "\u001b[0;31m---------------------------------------------------------------------------\u001b[0m",
            "\u001b[0;31mNameError\u001b[0m                                 Traceback (most recent call last)",
            "\u001b[0;32m<ipython-input-3-e8e13faad559>\u001b[0m in \u001b[0;36m<module>\u001b[0;34m()\u001b[0m\n\u001b[0;32m----> 1\u001b[0;31m \u001b[0murl_list\u001b[0m \u001b[0;34m=\u001b[0m \u001b[0mget_properties_url_list\u001b[0m\u001b[0;34m(\u001b[0m\u001b[0mdriver\u001b[0m\u001b[0;34m,\u001b[0m\u001b[0murl_target\u001b[0m\u001b[0;34m)\u001b[0m\u001b[0;34m\u001b[0m\u001b[0;34m\u001b[0m\u001b[0m\n\u001b[0m\u001b[1;32m      2\u001b[0m \u001b[0;34m\u001b[0m\u001b[0m\n\u001b[1;32m      3\u001b[0m \u001b[0;32mfor\u001b[0m \u001b[0murl\u001b[0m \u001b[0;32min\u001b[0m \u001b[0murl_list\u001b[0m\u001b[0;34m:\u001b[0m\u001b[0;34m\u001b[0m\u001b[0;34m\u001b[0m\u001b[0m\n\u001b[1;32m      4\u001b[0m   \u001b[0mget_property_data\u001b[0m\u001b[0;34m(\u001b[0m\u001b[0mdriver\u001b[0m\u001b[0;34m,\u001b[0m\u001b[0murl\u001b[0m\u001b[0;34m)\u001b[0m\u001b[0;34m\u001b[0m\u001b[0;34m\u001b[0m\u001b[0m\n",
            "\u001b[0;31mNameError\u001b[0m: name 'get_properties_url_list' is not defined"
          ]
        }
      ]
    },
    {
      "cell_type": "code",
      "source": [
        ""
      ],
      "metadata": {
        "id": "IEwe7bE56MKt"
      },
      "execution_count": null,
      "outputs": []
    }
  ]
}