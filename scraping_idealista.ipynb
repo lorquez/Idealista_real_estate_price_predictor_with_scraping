{
  "nbformat": 4,
  "nbformat_minor": 0,
  "metadata": {
    "colab": {
      "name": "scraping_idealista.ipynb",
      "provenance": [],
      "collapsed_sections": [],
      "authorship_tag": "ABX9TyPquZlBvDee/f4Ua9xPmEdd"
    },
    "kernelspec": {
      "name": "python3",
      "display_name": "Python 3"
    },
    "language_info": {
      "name": "python"
    }
  },
  "cells": [
    {
      "cell_type": "code",
      "execution_count": 1,
      "metadata": {
        "id": "W5u8t0OGiNva"
      },
      "outputs": [],
      "source": [
        "import matplotlib.pyplot as plt\n",
        "import seaborn as sns\n",
        "import pandas as pd\n",
        "import numpy as np\n",
        "import requests\n",
        "import os"
      ]
    },
    {
      "cell_type": "code",
      "source": [
        "import json\n",
        "f = open(os.getcwd()+os.sep+'token.json','r')\n",
        "access = json.load(f)\n",
        "f.close()"
      ],
      "metadata": {
        "id": "giUeuXPQS3NB"
      },
      "execution_count": 5,
      "outputs": []
    },
    {
      "cell_type": "code",
      "source": [
        "class idealista_search_api():\n",
        "  \n",
        "  def __init__(self,access:dict):\n",
        "    self.token = access['access_token']\n",
        "    self.token_type = access['token_type']\n",
        "    self.api_key = 'p4o5n83p24mfdxhpnzkzzo5rpr2xng1s'\n",
        "    self.country = 'es'\n",
        "    self.api_version = '3.5'\n",
        "    self.endpoint = f'https://api.idealista.com/{self.api_version}/{self.country}/search'\n",
        "    \n",
        "  def request(self,payload:dict):\n",
        "    headers = {\n",
        "        'Authorization': f'{self.token_type} {self.token}'\n",
        "    }\n",
        "    #payload['apikey'] = self.api_key\n",
        "    response = requests.post(self.endpoint,params=payload,headers=headers)\n",
        "    if response.status_code == 200:\n",
        "      return response\n",
        "    response.raise_for_status()\n",
        "\n",
        "  def extract_data(self,payload:dict) -> pd.DataFrame:\n",
        "    payload = {\n",
        "        'operation':'sale',\n",
        "        'propertyType':'homes',\n",
        "        'maxItems':50,\n",
        "        'order':'price',\n",
        "        'sort':'desc',\n",
        "        'locationId':'0-EU-ES-28-07-001-079'\n",
        "        }\n",
        "    data = json.loads(self.request(payload).text)\n",
        "    totalPages = data['totalPages']\n",
        "    self.dataset = pd.DataFrame(data)\n",
        "\n",
        "    for page in range(totalPages):\n",
        "      payload['numPage'] = page\n",
        "      # append to dataframe\n",
        "\n"
      ],
      "metadata": {
        "id": "MG3O-_ZiLuW2"
      },
      "execution_count": 48,
      "outputs": []
    },
    {
      "cell_type": "code",
      "source": [
        "idealista = idealista_search_api(access)\n",
        "payload = {\n",
        "    'operation':'sale',\n",
        "    'propertyType':'homes',\n",
        "    'maxItems':50,\n",
        "    'numPage':1,\n",
        "    'order':'price',\n",
        "    'sort':'desc',\n",
        "    'locationId':'0-EU-ES-28-07-001-079'\n",
        "    #'locationId':'0-EU-ES-28'\n",
        "    }\n",
        "response = idealista.request(payload)"
      ],
      "metadata": {
        "id": "geAtz9N5MxQS"
      },
      "execution_count": 56,
      "outputs": []
    },
    {
      "cell_type": "code",
      "source": [
        "type(response)"
      ],
      "metadata": {
        "colab": {
          "base_uri": "https://localhost:8080/"
        },
        "id": "bNdZNs_ffq5o",
        "outputId": "41e92953-dc35-45df-9685-b63eedf99e69"
      },
      "execution_count": 67,
      "outputs": [
        {
          "output_type": "execute_result",
          "data": {
            "text/plain": [
              "requests.models.Response"
            ]
          },
          "metadata": {},
          "execution_count": 67
        }
      ]
    },
    {
      "cell_type": "code",
      "source": [
        "data = json.loads(response.text)"
      ],
      "metadata": {
        "id": "vxPeMM2OYsLM"
      },
      "execution_count": 57,
      "outputs": []
    },
    {
      "cell_type": "code",
      "source": [
        "data.keys()"
      ],
      "metadata": {
        "colab": {
          "base_uri": "https://localhost:8080/"
        },
        "id": "hoX-ecG7dusr",
        "outputId": "cd65b192-5df9-4c60-a57c-be29a0a633b2"
      },
      "execution_count": 58,
      "outputs": [
        {
          "output_type": "execute_result",
          "data": {
            "text/plain": [
              "dict_keys(['elementList', 'total', 'totalPages', 'actualPage', 'itemsPerPage', 'numPaginations', 'hiddenResults', 'summary', 'filter', 'alertName', 'lowerRangePosition', 'upperRangePosition', 'paginable'])"
            ]
          },
          "metadata": {},
          "execution_count": 58
        }
      ]
    },
    {
      "cell_type": "code",
      "source": [
        "len(data['elementList'])"
      ],
      "metadata": {
        "colab": {
          "base_uri": "https://localhost:8080/"
        },
        "id": "N-6dbwT-dx8q",
        "outputId": "97a4e5ae-dc3c-4bc4-9313-d7f6ea156ac8"
      },
      "execution_count": 59,
      "outputs": [
        {
          "output_type": "execute_result",
          "data": {
            "text/plain": [
              "20"
            ]
          },
          "metadata": {},
          "execution_count": 59
        }
      ]
    },
    {
      "cell_type": "code",
      "source": [
        "data['totalPages']"
      ],
      "metadata": {
        "colab": {
          "base_uri": "https://localhost:8080/"
        },
        "id": "9jVcn2F9ePPr",
        "outputId": "e77f7c68-5997-4818-a78f-827f783d0c3a"
      },
      "execution_count": 60,
      "outputs": [
        {
          "output_type": "execute_result",
          "data": {
            "text/plain": [
              "885"
            ]
          },
          "metadata": {},
          "execution_count": 60
        }
      ]
    },
    {
      "cell_type": "code",
      "source": [
        "data['elementList'][0].keys()"
      ],
      "metadata": {
        "colab": {
          "base_uri": "https://localhost:8080/"
        },
        "id": "g_guKSXdexGi",
        "outputId": "60469d3a-074a-4b11-de8b-aabcd51c1c37"
      },
      "execution_count": 62,
      "outputs": [
        {
          "output_type": "execute_result",
          "data": {
            "text/plain": [
              "dict_keys(['propertyCode', 'externalReference', 'numPhotos', 'floor', 'price', 'propertyType', 'operation', 'size', 'exterior', 'rooms', 'bathrooms', 'address', 'province', 'municipality', 'district', 'country', 'neighborhood', 'latitude', 'longitude', 'showAddress', 'url', 'description', 'hasVideo', 'status', 'newDevelopment', 'hasLift', 'parkingSpace', 'priceByArea', 'detailedType', 'suggestedTexts', 'hasPlan', 'has3DTour', 'has360', 'hasStaging', 'superTopHighlight', 'topNewDevelopment'])"
            ]
          },
          "metadata": {},
          "execution_count": 62
        }
      ]
    },
    {
      "cell_type": "code",
      "source": [
        "data['elementList'][0]['priceByArea']"
      ],
      "metadata": {
        "colab": {
          "base_uri": "https://localhost:8080/"
        },
        "id": "TbWatV2oe6Ln",
        "outputId": "eaaf3ec2-3cd2-4942-a751-6c574fb9798d"
      },
      "execution_count": 63,
      "outputs": [
        {
          "output_type": "execute_result",
          "data": {
            "text/plain": [
              "16949.0"
            ]
          },
          "metadata": {},
          "execution_count": 63
        }
      ]
    },
    {
      "cell_type": "code",
      "source": [
        "data['elementList'][0]['priceByArea'] == int(data['elementList'][0]['price']/data['elementList'][0]['size'])"
      ],
      "metadata": {
        "colab": {
          "base_uri": "https://localhost:8080/"
        },
        "id": "SZaGbjypfICY",
        "outputId": "fdc4f004-9596-4cd6-837e-d5b5359d8de0"
      },
      "execution_count": 66,
      "outputs": [
        {
          "output_type": "execute_result",
          "data": {
            "text/plain": [
              "True"
            ]
          },
          "metadata": {},
          "execution_count": 66
        }
      ]
    },
    {
      "cell_type": "code",
      "source": [
        "range(data['totalPages'])"
      ],
      "metadata": {
        "colab": {
          "base_uri": "https://localhost:8080/"
        },
        "id": "jDa59anzfS3y",
        "outputId": "b297143b-0e73-4d30-8496-1a8e06457148"
      },
      "execution_count": 68,
      "outputs": [
        {
          "output_type": "execute_result",
          "data": {
            "text/plain": [
              "range(0, 885)"
            ]
          },
          "metadata": {},
          "execution_count": 68
        }
      ]
    }
  ]
}