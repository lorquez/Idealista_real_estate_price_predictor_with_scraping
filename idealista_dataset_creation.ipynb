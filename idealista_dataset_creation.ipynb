{
  "nbformat": 4,
  "nbformat_minor": 0,
  "metadata": {
    "colab": {
      "name": "idealista_dataset_creation.ipynb",
      "provenance": [],
      "collapsed_sections": [],
      "authorship_tag": "ABX9TyPcLEfV4Y+RdSNPCqGwdn3M"
    },
    "kernelspec": {
      "name": "python3",
      "display_name": "Python 3"
    },
    "language_info": {
      "name": "python"
    }
  },
  "cells": [
    {
      "cell_type": "code",
      "execution_count": 103,
      "metadata": {
        "id": "W5u8t0OGiNva"
      },
      "outputs": [],
      "source": [
        "import matplotlib.pyplot as plt\n",
        "import seaborn as sns\n",
        "import pandas as pd\n",
        "import numpy as np\n",
        "import requests\n",
        "import time\n",
        "import os"
      ]
    },
    {
      "cell_type": "code",
      "source": [
        "import json\n",
        "f = open('./token.json','r')\n",
        "access = json.load(f)\n",
        "f.close()"
      ],
      "metadata": {
        "id": "giUeuXPQS3NB"
      },
      "execution_count": 107,
      "outputs": []
    },
    {
      "cell_type": "code",
      "source": [
        "class idealista_search_api():\n",
        "  \n",
        "  def __init__(self,access:dict):\n",
        "    self.token = access['access_token']\n",
        "    self.token_type = access['token_type']\n",
        "    self.country = 'es'\n",
        "    self.api_version = '3.5'\n",
        "    self.endpoint = f'https://api.idealista.com/{self.api_version}/{self.country}/search'\n",
        "    \n",
        "  def request(self,payload:dict):\n",
        "    headers = {\n",
        "        'Authorization': f'{self.token_type} {self.token}'\n",
        "    }\n",
        "    response = requests.post(self.endpoint,params=payload,headers=headers)\n",
        "    if response.status_code == 200:\n",
        "      return response\n",
        "    response.raise_for_status()\n",
        "\n",
        "  def extract_data(self,payload:dict) -> pd.DataFrame:\n",
        "    print('this is the payload:',payload)\n",
        "    data = json.loads(self.request(payload).text)\n",
        "    totalPages = data['totalPages']\n",
        "    self.dataset = pd.DataFrame(data['elementList'])\n",
        "    self.dataset.to_csv('idealista_real_estate_madrid_housing.csv')\n",
        "    print('first extraction done')\n",
        "    print(self.dataset)\n",
        "\n",
        "    print(f'total pages: {totalPages}')\n",
        "\n",
        "    for page in range(2,totalPages+1):\n",
        "      time.sleep(1)\n",
        "      print(page)\n",
        "      payload['numPage'] = page\n",
        "      data = json.loads(self.request(payload).text)\n",
        "      self.dataset = self.dataset.append(data['elementList'])\n",
        "      pd.DataFrame(data['elementList']).to_csv('idealista_real_estate_madrid_housing.csv',mode='a')"
      ],
      "metadata": {
        "id": "MG3O-_ZiLuW2"
      },
      "execution_count": 108,
      "outputs": []
    },
    {
      "cell_type": "code",
      "source": [
        "idealista = idealista_search_api(access)"
      ],
      "metadata": {
        "id": "U2qEoKvAydRd"
      },
      "execution_count": 109,
      "outputs": []
    },
    {
      "cell_type": "code",
      "source": [
        "payload = {\n",
        "    'operation':'sale',\n",
        "    'propertyType':'homes',\n",
        "    'maxItems':50,\n",
        "    'order':'price',\n",
        "    'sort':'desc',\n",
        "    'locationId':'0-EU-ES-28-07-001-079'\n",
        "    }\n",
        "\n",
        "idealista.extract_data(payload)"
      ],
      "metadata": {
        "id": "geAtz9N5MxQS"
      },
      "execution_count": null,
      "outputs": []
    }
  ]
}